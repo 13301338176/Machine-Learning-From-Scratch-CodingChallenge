{
 "cells": [
  {
   "cell_type": "markdown",
   "metadata": {},
   "source": [
    "## Took the dataset from Andrew NG machine learning course. Goal here to classify the handwritten digits from 0 - 10. Will use Logistic Regression influenced by concept given by Andrew NG in his machine learning course.\n"
   ]
  },
  {
   "cell_type": "markdown",
   "metadata": {},
   "source": [
    "### There are 5000 training examples in ex3data1.mat, where each training example is a 20 pixel by 20 pixel grayscale image of the digit. The 20 by 20 grid of pixels is unrolled\" into a 400-dimensional vector. "
   ]
  },
  {
   "cell_type": "code",
   "execution_count": 153,
   "metadata": {},
   "outputs": [],
   "source": [
    "import numpy as np\n",
    "import pandas as pd\n",
    "from scipy.io import loadmat\n",
    "import matplotlib.pyplot as plt\n",
    "from sklearn.model_selection import train_test_split\n",
    "%matplotlib inline"
   ]
  },
  {
   "cell_type": "code",
   "execution_count": 154,
   "metadata": {},
   "outputs": [
    {
     "name": "stdout",
     "output_type": "stream",
     "text": [
      "(5000, 400)\n",
      "(5000, 1)\n"
     ]
    }
   ],
   "source": [
    "data = loadmat(\"data\\ex3data1.mat\")\n",
    "print(data['X'].shape)\n",
    "print(data['y'].shape)"
   ]
  },
  {
   "cell_type": "markdown",
   "metadata": {},
   "source": [
    "###  Plot one image from input"
   ]
  },
  {
   "cell_type": "code",
   "execution_count": 155,
   "metadata": {
    "collapsed": true
   },
   "outputs": [],
   "source": [
    "def show(img, title:None):\n",
    "    plt.imshow(img, cmap='gray')\n",
    "    if(title is not None): plt.title(title)"
   ]
  },
  {
   "cell_type": "code",
   "execution_count": 165,
   "metadata": {},
   "outputs": [
    {
     "data": {
      "image/png": "[encoded data removed]",
      "text/plain": [
       "<matplotlib.figure.Figure at 0x2bfe47b9518>"
      ]
     },
     "metadata": {},
     "output_type": "display_data"
    }
   ],
   "source": [
    "#reshape by 20*20\n",
    "image = np.reshape(data['X'][4000],(20,20))\n",
    "image.shape\n",
    "show(image, data['y'][4000])"
   ]
  },
  {
   "cell_type": "markdown",
   "metadata": {},
   "source": [
    "###  Let   me copy the Logisitc Regression and gradient desent Class which i done in my previous session and extend the class to support multi classification"
   ]
  },
  {
   "cell_type": "code",
   "execution_count": 131,
   "metadata": {
    "collapsed": true
   },
   "outputs": [],
   "source": [
    "from sklearn.metrics import accuracy_score\n",
    "\n",
    "\n",
    "class LogisticRegression():\n",
    "    def __init__(self, X, y , X_valid, y_valid, lr,epochs, reg = False,useoptimizer = False,ismultiClass = False):\n",
    "        self.X,self.y,  self.X_valid,self.y_valid,self.lr ,self.epochs,self.reg,self.useoptimizer, self.ismultiClass= X, y , X_valid, y_valid, lr, epochs, reg, useoptimizer,ismultiClass\n",
    "        if(not ismultiClass):            \n",
    "            self.optim = GradientDesent( X, y , X_valid, y_valid, lr,epochs, reg,useoptimizer, self.sigmoid)\n",
    "   \n",
    "    def sigmoid(self, z):    \n",
    "        return 1/(1+np.exp(-z))  \n",
    "    \n",
    "    def fit(self):\n",
    "        if(self.ismultiClass):\n",
    "            self.fitMulti()\n",
    "        else:\n",
    "            w = self.optim.optimize()\n",
    "            h = sigmoid(np.dot(self.X, w))\n",
    "            h_valid = sigmoid(np.dot(self.X_valid, w))\n",
    "            train_preds = [1 if i > 0.5 else 0 for i in h]\n",
    "            val_preds = [1 if i > 0.5 else 0 for i in h_valid]\n",
    "            train_accuracy =  accuracy_score(self.y , train_preds)\n",
    "            val_accuracy =  accuracy_score(self.y_valid , val_preds)\n",
    "\n",
    "            print(f'Train Accuracy: {train_accuracy} Val Accuracy: {val_accuracy}')   \n",
    "        \n",
    "        \n",
    "    def fitMulti(self):\n",
    "        labelCount = len(np.unique(self.y))\n",
    "        print(f'Total label Count: {labelCount}') \n",
    "        w = np.zeros((labelCount, self.X.shape[1]))\n",
    "                     \n",
    "        for i in range(1, labelCount+1):\n",
    "            print(f'Train LG for class : {i}')\n",
    "            y_change = np.array([1 if i == label else 0 for label in self.y])\n",
    "            y_valid_change = np.array([1 if i == label else 0 for label in self.y_valid])            \n",
    "            optim = GradientDesent( self.X, y_change , self.X_valid, y_valid_change, self.lr, self.epochs, self.reg, self.useoptimizer, self.sigmoid)\n",
    "            w[i-1:] = optim.optimize()                     \n",
    "        \n",
    "        train_preds = np.argmax(self.sigmoid(np.dot(self.X, w.T)) ,axis = 1) + 1\n",
    "        val_preds = np.argmax(self.sigmoid(np.dot(self.X_valid, w.T)) ,axis = 1) + 1         \n",
    "        \n",
    "        train_accuracy =  accuracy_score(self.y , train_preds)\n",
    "        val_accuracy =  accuracy_score(self.y_valid , val_preds)        \n",
    "        print(f'Train Accuracy: {train_accuracy} Val Accuracy: {val_accuracy}')\n",
    "                           \n",
    "        "
   ]
  },
  {
   "cell_type": "code",
   "execution_count": 132,
   "metadata": {
    "collapsed": true
   },
   "outputs": [],
   "source": [
    "import scipy.optimize as opt\n",
    "class GradientDesent():\n",
    "    \n",
    "    def __init__(self, X, y , X_valid, y_valid, lr, epochs, reg = False, useoptimizer = False, activate_fn = None):\n",
    "        self.X,self.y,  self.X_valid,self.y_valid,self.lr ,self.epochs, self.reg, self.useoptimizer, self.activate_fn  = X, y , X_valid, y_valid, lr,epochs, reg,useoptimizer,activate_fn\n",
    "            \n",
    "    def optimize(self):\n",
    "        w = np.zeros(X.shape[1])\n",
    "              \n",
    "        \n",
    "        if(self.useoptimizer):\n",
    "            result = opt.fmin_tnc(func=self.cost, x0=w, fprime=self.gradient,args=(self.X, self.y)) \n",
    "            train_loss= self.cost(result[0], self.X, self.y)\n",
    "            val_loss = self.cost(result[0], self.X_valid, self.y_valid)  \n",
    "            print(f'Runned Spicy Optimizer > Train Loss: {train_loss} Val Loss: {val_loss}')          \n",
    "            return result[0]             \n",
    "            \n",
    "        train_cost = np.zeros(self.epochs)\n",
    "        val_cost = np.zeros(self.epochs)      \n",
    "\n",
    "        \n",
    "        for i in range(self.epochs):\n",
    "            grad = self.gradient(w, self.X, self.y)\n",
    "            w = np.subtract(w , np.multiply(grad , self.lr))\n",
    "            train_loss= self.cost(w, self.X, self.y)\n",
    "            val_loss = self.cost(w, self.X_valid, self.y_valid)         \n",
    "            train_cost[i] = train_loss\n",
    "            val_cost[i] = val_loss\n",
    "            print(f'Epochs: {i} Train Loss: {train_loss} Val Loss: {val_loss}')   \n",
    "            \n",
    "        \n",
    "        return w\n",
    "        \n",
    "    def cost(self,w, X, y):\n",
    "        h = np.dot(X, w)\n",
    "        m = len(X)       \n",
    "        if(self.activate_fn != None):  h = self.activate_fn(h)\n",
    "        \n",
    "        loss= (np.dot(-y, np.log(h))) - (np.dot(1-y, np.log(1-h)))\n",
    "        loss = np.sum(loss)/m\n",
    "        \n",
    "        if(self.reg):           \n",
    "            loss = loss + ((self.lr/2*m) * np.sum(np.power(w,2)))\n",
    "        return loss\n",
    "            \n",
    "    \n",
    "    def gradient(self,w,X, y):\n",
    "        h = np.dot(X, w)      \n",
    "        if(self.activate_fn != None):  h = self.activate_fn(h)     \n",
    "        m = len(X)\n",
    "        loss= h - y\n",
    "        gradient = np.dot(X.T,loss)/m\n",
    "        if(self.reg): gradient = gradient + np.dot((self.lr/m), w)      \n",
    "        return gradient"
   ]
  },
  {
   "cell_type": "code",
   "execution_count": 133,
   "metadata": {
    "collapsed": true
   },
   "outputs": [],
   "source": [
    "X = np.insert(data['X'], 0,  np.ones(data['X'].shape[0]), axis =1)\n",
    "y =  data['y']"
   ]
  },
  {
   "cell_type": "code",
   "execution_count": 134,
   "metadata": {},
   "outputs": [
    {
     "name": "stdout",
     "output_type": "stream",
     "text": [
      "(4250, 401)\n",
      "(750, 401)\n"
     ]
    }
   ],
   "source": [
    "X_train, X_valid, y_train, y_valid = train_test_split(\n",
    "            X,y, test_size=0.15, random_state=42)\n",
    "print(X_train.shape)\n",
    "print(X_valid.shape)"
   ]
  },
  {
   "cell_type": "code",
   "execution_count": 144,
   "metadata": {},
   "outputs": [
    {
     "name": "stdout",
     "output_type": "stream",
     "text": [
      "Total label Count: 10\n",
      "Train LG for class : 1\n"
     ]
    },
    {
     "name": "stderr",
     "output_type": "stream",
     "text": [
      "C:\\Program Files\\Anaconda3\\lib\\site-packages\\ipykernel_launcher.py:39: RuntimeWarning: divide by zero encountered in log\n"
     ]
    },
    {
     "name": "stdout",
     "output_type": "stream",
     "text": [
      "Runned Spicy Optimizer > Train Loss: 0.002923041733598084 Val Loss: 0.138538817864986\n",
      "Train LG for class : 2\n",
      "Runned Spicy Optimizer > Train Loss: 0.028470023386103632 Val Loss: 0.2696736429306643\n",
      "Train LG for class : 3\n",
      "Runned Spicy Optimizer > Train Loss: 0.03293049777668425 Val Loss: nan\n",
      "Train LG for class : 4\n",
      "Runned Spicy Optimizer > Train Loss: 0.02734732825590251 Val Loss: 0.0907335536576923\n",
      "Train LG for class : 5\n",
      "Runned Spicy Optimizer > Train Loss: 0.027994746815151718 Val Loss: 0.23885494175167288\n",
      "Train LG for class : 6\n",
      "Runned Spicy Optimizer > Train Loss: 0.0055219151298216635 Val Loss: 0.17925622430139207\n",
      "Train LG for class : 7\n",
      "Runned Spicy Optimizer > Train Loss: 0.019568046980762508 Val Loss: 0.1346285309284556\n",
      "Train LG for class : 8\n",
      "Runned Spicy Optimizer > Train Loss: 0.055570550206426934 Val Loss: 0.24359708820847892\n",
      "Train LG for class : 9\n",
      "Runned Spicy Optimizer > Train Loss: 0.04223319830224293 Val Loss: 0.32487084597910837\n",
      "Train LG for class : 10\n",
      "Runned Spicy Optimizer > Train Loss: 0.007414052581755591 Val Loss: 0.017317162538430998\n",
      "Train Accuracy: 0.9788235294117648 Val Accuracy: 0.8706666666666667\n"
     ]
    }
   ],
   "source": [
    "model = LogisticRegression(X_train, y_train,X_valid,y_valid,  lr = 0.001, epochs =5000,useoptimizer=True,ismultiClass=True)\n",
    "model.fit()"
   ]
  },
  {
   "cell_type": "markdown",
   "metadata": {},
   "source": [
    "### With Regularization"
   ]
  },
  {
   "cell_type": "code",
   "execution_count": 148,
   "metadata": {
    "scrolled": true
   },
   "outputs": [
    {
     "name": "stdout",
     "output_type": "stream",
     "text": [
      "Total label Count: 10\n",
      "Train LG for class : 1\n",
      "Runned Spicy Optimizer > Train Loss: 0.03250798310363381 Val Loss: 0.05026684314405355\n",
      "Train LG for class : 2\n",
      "Runned Spicy Optimizer > Train Loss: 0.07681252224323201 Val Loss: 0.11384103048925709\n",
      "Train LG for class : 3\n",
      "Runned Spicy Optimizer > Train Loss: 0.08235614851997286 Val Loss: 0.09411560987136036\n",
      "Train LG for class : 4\n",
      "Runned Spicy Optimizer > Train Loss: 0.060484883155183224 Val Loss: 0.07343524436019651\n",
      "Train LG for class : 5\n",
      "Runned Spicy Optimizer > Train Loss: 0.09115962198398103 Val Loss: 0.08995227763724033\n",
      "Train LG for class : 6\n",
      "Runned Spicy Optimizer > Train Loss: 0.04251527798702612 Val Loss: 0.06923898052032325\n",
      "Train LG for class : 7\n",
      "Runned Spicy Optimizer > Train Loss: 0.05246759450811332 Val Loss: 0.07253550930589386\n",
      "Train LG for class : 8\n",
      "Runned Spicy Optimizer > Train Loss: 0.1135066041276439 Val Loss: 0.10061835531918789\n",
      "Train LG for class : 9\n",
      "Runned Spicy Optimizer > Train Loss: 0.10266840457205065 Val Loss: 0.10701855986621917\n",
      "Train LG for class : 10\n",
      "Runned Spicy Optimizer > Train Loss: 0.030533733181829247 Val Loss: 0.020734170291084708\n",
      "Train Accuracy: 0.9418823529411765 Val Accuracy: 0.904\n"
     ]
    }
   ],
   "source": [
    "model = LogisticRegression(X_train, y_train,X_valid,y_valid,  lr = 0.0000001, epochs =5000,reg = True, useoptimizer=True,ismultiClass=True)\n",
    "model.fit()"
   ]
  }
 ],
 "metadata": {
  "kernelspec": {
   "display_name": "Python 3",
   "language": "python",
   "name": "python3"
  },
  "language_info": {
   "codemirror_mode": {
    "name": "ipython",
    "version": 3
   },
   "file_extension": ".py",
   "mimetype": "text/x-python",
   "name": "python",
   "nbconvert_exporter": "python",
   "pygments_lexer": "ipython3",
   "version": "3.6.1"
  }
 },
 "nbformat": 4,
 "nbformat_minor": 2
}
