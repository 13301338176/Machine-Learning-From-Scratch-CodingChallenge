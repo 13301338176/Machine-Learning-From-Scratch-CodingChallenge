{
 "cells": [
  {
   "cell_type": "code",
   "execution_count": 322,
   "metadata": {
    "collapsed": true
   },
   "outputs": [],
   "source": [
    "import pandas as pd\n",
    "import numpy as np\n",
    "import matplotlib.pyplot as plt\n",
    "from sklearn.model_selection import train_test_split\n",
    "%matplotlib inline"
   ]
  },
  {
   "cell_type": "markdown",
   "metadata": {},
   "source": [
    "# Prepare Data and Plot"
   ]
  },
  {
   "cell_type": "code",
   "execution_count": 323,
   "metadata": {},
   "outputs": [
    {
     "data": {
      "text/html": [
       "<div>\n",
       "<style>\n",
       "    .dataframe thead tr:only-child th {\n",
       "        text-align: right;\n",
       "    }\n",
       "\n",
       "    .dataframe thead th {\n",
       "        text-align: left;\n",
       "    }\n",
       "\n",
       "    .dataframe tbody tr th {\n",
       "        vertical-align: top;\n",
       "    }\n",
       "</style>\n",
       "<table border=\"1\" class=\"dataframe\">\n",
       "  <thead>\n",
       "    <tr style=\"text-align: right;\">\n",
       "      <th></th>\n",
       "      <th>Ones</th>\n",
       "      <th>E1</th>\n",
       "      <th>E2</th>\n",
       "      <th>Allowed</th>\n",
       "    </tr>\n",
       "  </thead>\n",
       "  <tbody>\n",
       "    <tr>\n",
       "      <th>0</th>\n",
       "      <td>1</td>\n",
       "      <td>34.623660</td>\n",
       "      <td>78.024693</td>\n",
       "      <td>0</td>\n",
       "    </tr>\n",
       "    <tr>\n",
       "      <th>1</th>\n",
       "      <td>1</td>\n",
       "      <td>30.286711</td>\n",
       "      <td>43.894998</td>\n",
       "      <td>0</td>\n",
       "    </tr>\n",
       "    <tr>\n",
       "      <th>2</th>\n",
       "      <td>1</td>\n",
       "      <td>35.847409</td>\n",
       "      <td>72.902198</td>\n",
       "      <td>0</td>\n",
       "    </tr>\n",
       "    <tr>\n",
       "      <th>3</th>\n",
       "      <td>1</td>\n",
       "      <td>60.182599</td>\n",
       "      <td>86.308552</td>\n",
       "      <td>1</td>\n",
       "    </tr>\n",
       "    <tr>\n",
       "      <th>4</th>\n",
       "      <td>1</td>\n",
       "      <td>79.032736</td>\n",
       "      <td>75.344376</td>\n",
       "      <td>1</td>\n",
       "    </tr>\n",
       "  </tbody>\n",
       "</table>\n",
       "</div>"
      ],
      "text/plain": [
       "   Ones         E1         E2  Allowed\n",
       "0     1  34.623660  78.024693        0\n",
       "1     1  30.286711  43.894998        0\n",
       "2     1  35.847409  72.902198        0\n",
       "3     1  60.182599  86.308552        1\n",
       "4     1  79.032736  75.344376        1"
      ]
     },
     "execution_count": 323,
     "metadata": {},
     "output_type": "execute_result"
    }
   ],
   "source": [
    "data = pd.read_csv(\"data/ex2data1.txt\",header= None, names = ['E1','E2', 'Allowed'])\n",
    "data.insert(0, 'Ones', 1)\n",
    "data.head()"
   ]
  },
  {
   "cell_type": "code",
   "execution_count": 324,
   "metadata": {},
   "outputs": [
    {
     "data": {
      "text/plain": [
       "<matplotlib.text.Text at 0x1af550af438>"
      ]
     },
     "execution_count": 324,
     "metadata": {},
     "output_type": "execute_result"
    },
    {
     "data": {
      "image/png": "[encoded data removed]",
      "text/plain": [
       "<matplotlib.figure.Figure at 0x1af54a4db00>"
      ]
     },
     "metadata": {},
     "output_type": "display_data"
    }
   ],
   "source": [
    "positive = data[data[\"Allowed\"] == 1]\n",
    "negative = data[data[\"Allowed\"] == 0]\n",
    "\n",
    "fig,ax = plt.subplots(figsize=(12,8))\n",
    "ax.scatter(positive[\"E1\"], positive[\"E2\"],label='Allowed')\n",
    "ax.scatter(negative[\"E1\"], negative[\"E2\"], label='Not Allowed')\n",
    "ax.legend()\n",
    "ax.set_xlabel(\"E1\")\n",
    "ax.set_ylabel(\"E2\")"
   ]
  },
  {
   "cell_type": "code",
   "execution_count": 325,
   "metadata": {},
   "outputs": [],
   "source": [
    "X = data.drop(\"Allowed\", axis =1)\n",
    "y = data[\"Allowed\"]\n",
    "\n",
    "X_train, X_valid, y_train, y_valid = train_test_split(\n",
    "            X, y, test_size=0.20, random_state=42)\n"
   ]
  },
  {
   "cell_type": "code",
   "execution_count": null,
   "metadata": {
    "collapsed": true
   },
   "outputs": [],
   "source": [
    "from sklearn.metrics import accuracy_score\n",
    "\n",
    "\n",
    "class LogisticRegression():\n",
    "    def __init__(self, X, y , X_valid, y_valid, lr,epochs, reg = False,useoptimizer = False,):\n",
    "        self.X,self.y,  self.X_valid,self.y_valid,self.lr ,self.epochs,self.reg  = X, y , X_valid, y_valid, lr, epochs, reg\n",
    "        self.optim = GradientDesent( X, y , X_valid, y_valid, lr,epochs, reg,useoptimizer, self.sigmoid)\n",
    "   \n",
    "    def sigmoid(self, z):    \n",
    "        return 1/(1+np.exp(-z))  \n",
    "    \n",
    "    def fit(self):\n",
    "        w = self.optim.optimize()\n",
    "        h = sigmoid(np.dot(self.X, w))\n",
    "        h_valid = sigmoid(np.dot(self.X_valid, w))\n",
    "        train_preds = [1 if i > 0.5 else 0 for i in h]\n",
    "        val_preds = [1 if i > 0.5 else 0 for i in h_valid]\n",
    "        train_accuracy =  accuracy_score(self.y , train_preds)\n",
    "        val_accuracy =  accuracy_score(self.y_valid , val_preds)\n",
    "        \n",
    "        print(f'Train Accuracy: {train_accuracy} Val Accuracy: {val_accuracy}')      "
   ]
  },
  {
   "cell_type": "code",
   "execution_count": 303,
   "metadata": {
    "collapsed": true
   },
   "outputs": [],
   "source": [
    "class GradientDesent():\n",
    "    \n",
    "    def __init__(self, X, y , X_valid, y_valid, lr, epochs, reg = False, useoptimizer = False, activate_fn = None):\n",
    "        self.X,self.y,  self.X_valid,self.y_valid,self.lr ,self.epochs, self.reg, self.useoptimizer, self.activate_fn  = X, y , X_valid, y_valid, lr,epochs, reg,useoptimizer,activate_fn\n",
    "            \n",
    "    def optimize(self):\n",
    "        w = np.zeros(X.shape[1])\n",
    "              \n",
    "        \n",
    "        if(self.useoptimizer):\n",
    "            result = opt.fmin_tnc(func=self.cost, x0=w, fprime=self.gradient,args=(self.X, self.y)) \n",
    "            train_loss= self.cost(result[0], self.X, self.y)\n",
    "            val_loss = self.cost(result[0], self.X_valid, self.y_valid)  \n",
    "            print(f'Runned Spicy Optimizer > Train Loss: {train_loss} Val Loss: {val_loss}')          \n",
    "            return result[0]             \n",
    "            \n",
    "        train_cost = np.zeros(self.epochs)\n",
    "        val_cost = np.zeros(self.epochs)      \n",
    "\n",
    "        \n",
    "        for i in range(self.epochs):\n",
    "            grad = self.gradient(w, self.X, self.y)\n",
    "            w = np.subtract(w , np.multiply(grad , self.lr))\n",
    "            train_loss= self.cost(w, self.X, self.y)\n",
    "            val_loss = self.cost(w, self.X_valid, self.y_valid)         \n",
    "            train_cost[i] = train_loss\n",
    "            val_cost[i] = val_loss\n",
    "            print(f'Epochs: {i} Train Loss: {train_loss} Val Loss: {val_loss}')   \n",
    "            \n",
    "        \n",
    "        return w\n",
    "        \n",
    "    def cost(self,w, X, y):\n",
    "        h = np.dot(X, w)\n",
    "        m = len(X)       \n",
    "        if(self.activate_fn != None):  h = self.activate_fn(h)\n",
    "        loss= (np.dot(-y, np.log(h))) - (np.dot(1-y, np.log(1-h)))\n",
    "        loss = np.sum(loss)/m\n",
    "        \n",
    "        if(self.reg):           \n",
    "            loss = loss + ((self.lr/2*m) * np.sum(np.power(w,2)))\n",
    "        return loss\n",
    "            \n",
    "    \n",
    "    def gradient(self,w,X, y):\n",
    "        h = np.dot(X, w)      \n",
    "        if(self.activate_fn != None):  h = self.activate_fn(h)     \n",
    "        m = len(X)\n",
    "        loss= h - y\n",
    "        gradient = np.dot(X.T,loss)/m\n",
    "        if(self.reg): gradient = gradient + np.dot((self.lr/m), w)      \n",
    "        return gradient"
   ]
  },
  {
   "cell_type": "code",
   "execution_count": 304,
   "metadata": {
    "collapsed": true
   },
   "outputs": [],
   "source": [
    "model = LogisticRegression(X_train, y_train,X_valid,y_valid,  lr = 0.001, epochs =5000, reg = True, useoptimizer=True)"
   ]
  },
  {
   "cell_type": "code",
   "execution_count": 305,
   "metadata": {},
   "outputs": [
    {
     "name": "stdout",
     "output_type": "stream",
     "text": [
      "Runned Spicy Optimizer > Train Loss: 0.54427817416194 Val Loss: 0.9555064518722938\n",
      "Train Accuracy: 0.8695652173913043 Val Accuracy: 0.7052631578947368\n"
     ]
    }
   ],
   "source": [
    "model.fit()"
   ]
  },
  {
   "cell_type": "markdown",
   "metadata": {},
   "source": [
    "# Let see how to handle the non linear data with polynomial"
   ]
  },
  {
   "cell_type": "code",
   "execution_count": 306,
   "metadata": {},
   "outputs": [
    {
     "data": {
      "text/html": [
       "<div>\n",
       "<style>\n",
       "    .dataframe thead tr:only-child th {\n",
       "        text-align: right;\n",
       "    }\n",
       "\n",
       "    .dataframe thead th {\n",
       "        text-align: left;\n",
       "    }\n",
       "\n",
       "    .dataframe tbody tr th {\n",
       "        vertical-align: top;\n",
       "    }\n",
       "</style>\n",
       "<table border=\"1\" class=\"dataframe\">\n",
       "  <thead>\n",
       "    <tr style=\"text-align: right;\">\n",
       "      <th></th>\n",
       "      <th>Bias</th>\n",
       "      <th>Test1</th>\n",
       "      <th>Test2</th>\n",
       "      <th>Accepted</th>\n",
       "    </tr>\n",
       "  </thead>\n",
       "  <tbody>\n",
       "    <tr>\n",
       "      <th>0</th>\n",
       "      <td>1</td>\n",
       "      <td>0.051267</td>\n",
       "      <td>0.69956</td>\n",
       "      <td>1</td>\n",
       "    </tr>\n",
       "    <tr>\n",
       "      <th>1</th>\n",
       "      <td>1</td>\n",
       "      <td>-0.092742</td>\n",
       "      <td>0.68494</td>\n",
       "      <td>1</td>\n",
       "    </tr>\n",
       "    <tr>\n",
       "      <th>2</th>\n",
       "      <td>1</td>\n",
       "      <td>-0.213710</td>\n",
       "      <td>0.69225</td>\n",
       "      <td>1</td>\n",
       "    </tr>\n",
       "    <tr>\n",
       "      <th>3</th>\n",
       "      <td>1</td>\n",
       "      <td>-0.375000</td>\n",
       "      <td>0.50219</td>\n",
       "      <td>1</td>\n",
       "    </tr>\n",
       "    <tr>\n",
       "      <th>4</th>\n",
       "      <td>1</td>\n",
       "      <td>-0.513250</td>\n",
       "      <td>0.46564</td>\n",
       "      <td>1</td>\n",
       "    </tr>\n",
       "  </tbody>\n",
       "</table>\n",
       "</div>"
      ],
      "text/plain": [
       "   Bias     Test1    Test2  Accepted\n",
       "0     1  0.051267  0.69956         1\n",
       "1     1 -0.092742  0.68494         1\n",
       "2     1 -0.213710  0.69225         1\n",
       "3     1 -0.375000  0.50219         1\n",
       "4     1 -0.513250  0.46564         1"
      ]
     },
     "execution_count": 306,
     "metadata": {},
     "output_type": "execute_result"
    }
   ],
   "source": [
    "data = pd.read_csv(\"data/ex2data2.txt\", header = None, names = [\"Test1\",\"Test2\",\"Accepted\"])\n",
    "data.insert(0 , \"Bias\",  1)\n",
    "data.head()"
   ]
  },
  {
   "cell_type": "code",
   "execution_count": 307,
   "metadata": {},
   "outputs": [
    {
     "data": {
      "text/plain": [
       "<matplotlib.collections.PathCollection at 0x1af550672b0>"
      ]
     },
     "execution_count": 307,
     "metadata": {},
     "output_type": "execute_result"
    },
    {
     "data": {
      "image/png": "[encoded data removed]",
      "text/plain": [
       "<matplotlib.figure.Figure at 0x1af54e16f98>"
      ]
     },
     "metadata": {},
     "output_type": "display_data"
    }
   ],
   "source": [
    "postive = data[data[\"Accepted\"] == 1]\n",
    "negative = data[data[\"Accepted\"] == 0]\n",
    "\n",
    "fig,ax = plt.subplots(figsize=(12,8))\n",
    "ax.scatter(postive[\"Test1\"], postive[\"Test2\"], label =\"Accepted\")\n",
    "ax.scatter(negative[\"Test1\"], negative[\"Test2\"], label = \"NotAccepted\")"
   ]
  },
  {
   "cell_type": "code",
   "execution_count": 317,
   "metadata": {},
   "outputs": [
    {
     "data": {
      "text/plain": [
       "(95, 3)"
      ]
     },
     "execution_count": 317,
     "metadata": {},
     "output_type": "execute_result"
    }
   ],
   "source": [
    "X = data.drop(\"Accepted\", axis =1)\n",
    "y = data[\"Accepted\"]\n",
    "\n",
    "X_train, X_valid, y_train, y_valid = train_test_split(\n",
    "            X, y, test_size=0.80, random_state=42)\n",
    "\n",
    "X_valid.shape"
   ]
  },
  {
   "cell_type": "code",
   "execution_count": 318,
   "metadata": {},
   "outputs": [
    {
     "name": "stdout",
     "output_type": "stream",
     "text": [
      "Runned Spicy Optimizer > Train Loss: 0.6114304670894042 Val Loss: 0.8364360225740582\n",
      "Train Accuracy: 0.6086956521739131 Val Accuracy: 0.47368421052631576\n"
     ]
    }
   ],
   "source": [
    "model = LogisticRegression(X_train, y_train,X_valid,y_valid,  lr = 0.001, epochs =5000,useoptimizer=True)\n",
    "model.fit()"
   ]
  },
  {
   "cell_type": "markdown",
   "metadata": {},
   "source": [
    "# Add Polynomial Features to the input"
   ]
  },
  {
   "cell_type": "code",
   "execution_count": 319,
   "metadata": {},
   "outputs": [
    {
     "data": {
      "text/html": [
       "<div>\n",
       "<style>\n",
       "    .dataframe thead tr:only-child th {\n",
       "        text-align: right;\n",
       "    }\n",
       "\n",
       "    .dataframe thead th {\n",
       "        text-align: left;\n",
       "    }\n",
       "\n",
       "    .dataframe tbody tr th {\n",
       "        vertical-align: top;\n",
       "    }\n",
       "</style>\n",
       "<table border=\"1\" class=\"dataframe\">\n",
       "  <thead>\n",
       "    <tr style=\"text-align: right;\">\n",
       "      <th></th>\n",
       "      <th>Bias</th>\n",
       "      <th>Accepted</th>\n",
       "      <th>x10</th>\n",
       "      <th>x01</th>\n",
       "      <th>x20</th>\n",
       "      <th>x02</th>\n",
       "      <th>x21</th>\n",
       "      <th>x12</th>\n",
       "      <th>x30</th>\n",
       "      <th>x03</th>\n",
       "      <th>...</th>\n",
       "      <th>x94</th>\n",
       "      <th>x49</th>\n",
       "      <th>x95</th>\n",
       "      <th>x59</th>\n",
       "      <th>x96</th>\n",
       "      <th>x69</th>\n",
       "      <th>x97</th>\n",
       "      <th>x79</th>\n",
       "      <th>x98</th>\n",
       "      <th>x89</th>\n",
       "    </tr>\n",
       "  </thead>\n",
       "  <tbody>\n",
       "    <tr>\n",
       "      <th>0</th>\n",
       "      <td>1</td>\n",
       "      <td>1</td>\n",
       "      <td>0.051267</td>\n",
       "      <td>0.69956</td>\n",
       "      <td>0.002628</td>\n",
       "      <td>0.489384</td>\n",
       "      <td>0.035864</td>\n",
       "      <td>0.035864</td>\n",
       "      <td>0.000135</td>\n",
       "      <td>0.342354</td>\n",
       "      <td>...</td>\n",
       "      <td>8.481827e-08</td>\n",
       "      <td>0.000001</td>\n",
       "      <td>0.000001</td>\n",
       "      <td>8.481827e-08</td>\n",
       "      <td>0.000016</td>\n",
       "      <td>6.215876e-09</td>\n",
       "      <td>0.000216</td>\n",
       "      <td>4.555282e-10</td>\n",
       "      <td>0.002941</td>\n",
       "      <td>3.338322e-11</td>\n",
       "    </tr>\n",
       "    <tr>\n",
       "      <th>1</th>\n",
       "      <td>1</td>\n",
       "      <td>1</td>\n",
       "      <td>-0.092742</td>\n",
       "      <td>0.68494</td>\n",
       "      <td>0.008601</td>\n",
       "      <td>0.469143</td>\n",
       "      <td>-0.063523</td>\n",
       "      <td>-0.063523</td>\n",
       "      <td>-0.000798</td>\n",
       "      <td>0.321335</td>\n",
       "      <td>...</td>\n",
       "      <td>-1.510054e-06</td>\n",
       "      <td>0.000011</td>\n",
       "      <td>0.000011</td>\n",
       "      <td>-1.510054e-06</td>\n",
       "      <td>-0.000082</td>\n",
       "      <td>2.044638e-07</td>\n",
       "      <td>0.000608</td>\n",
       "      <td>-2.768473e-08</td>\n",
       "      <td>-0.004493</td>\n",
       "      <td>3.748558e-09</td>\n",
       "    </tr>\n",
       "    <tr>\n",
       "      <th>2</th>\n",
       "      <td>1</td>\n",
       "      <td>1</td>\n",
       "      <td>-0.213710</td>\n",
       "      <td>0.69225</td>\n",
       "      <td>0.045672</td>\n",
       "      <td>0.479210</td>\n",
       "      <td>-0.147941</td>\n",
       "      <td>-0.147941</td>\n",
       "      <td>-0.009761</td>\n",
       "      <td>0.331733</td>\n",
       "      <td>...</td>\n",
       "      <td>-1.023708e-04</td>\n",
       "      <td>0.000332</td>\n",
       "      <td>0.000332</td>\n",
       "      <td>-1.023708e-04</td>\n",
       "      <td>-0.001074</td>\n",
       "      <td>3.160370e-05</td>\n",
       "      <td>0.003479</td>\n",
       "      <td>-9.756630e-06</td>\n",
       "      <td>-0.011270</td>\n",
       "      <td>3.012047e-06</td>\n",
       "    </tr>\n",
       "    <tr>\n",
       "      <th>3</th>\n",
       "      <td>1</td>\n",
       "      <td>1</td>\n",
       "      <td>-0.375000</td>\n",
       "      <td>0.50219</td>\n",
       "      <td>0.140625</td>\n",
       "      <td>0.252195</td>\n",
       "      <td>-0.188321</td>\n",
       "      <td>-0.188321</td>\n",
       "      <td>-0.052734</td>\n",
       "      <td>0.126650</td>\n",
       "      <td>...</td>\n",
       "      <td>-4.716595e-04</td>\n",
       "      <td>0.000632</td>\n",
       "      <td>0.000632</td>\n",
       "      <td>-4.716595e-04</td>\n",
       "      <td>-0.000846</td>\n",
       "      <td>3.522020e-04</td>\n",
       "      <td>0.001133</td>\n",
       "      <td>-2.629995e-04</td>\n",
       "      <td>-0.001517</td>\n",
       "      <td>1.963895e-04</td>\n",
       "    </tr>\n",
       "    <tr>\n",
       "      <th>4</th>\n",
       "      <td>1</td>\n",
       "      <td>1</td>\n",
       "      <td>-0.513250</td>\n",
       "      <td>0.46564</td>\n",
       "      <td>0.263426</td>\n",
       "      <td>0.216821</td>\n",
       "      <td>-0.238990</td>\n",
       "      <td>-0.238990</td>\n",
       "      <td>-0.135203</td>\n",
       "      <td>0.100960</td>\n",
       "      <td>...</td>\n",
       "      <td>-1.674349e-03</td>\n",
       "      <td>0.001519</td>\n",
       "      <td>0.001519</td>\n",
       "      <td>-1.674349e-03</td>\n",
       "      <td>-0.001378</td>\n",
       "      <td>1.845545e-03</td>\n",
       "      <td>0.001250</td>\n",
       "      <td>-2.034245e-03</td>\n",
       "      <td>-0.001134</td>\n",
       "      <td>2.242239e-03</td>\n",
       "    </tr>\n",
       "  </tbody>\n",
       "</table>\n",
       "<p>5 rows × 92 columns</p>\n",
       "</div>"
      ],
      "text/plain": [
       "   Bias  Accepted       x10      x01       x20       x02       x21       x12  \\\n",
       "0     1         1  0.051267  0.69956  0.002628  0.489384  0.035864  0.035864   \n",
       "1     1         1 -0.092742  0.68494  0.008601  0.469143 -0.063523 -0.063523   \n",
       "2     1         1 -0.213710  0.69225  0.045672  0.479210 -0.147941 -0.147941   \n",
       "3     1         1 -0.375000  0.50219  0.140625  0.252195 -0.188321 -0.188321   \n",
       "4     1         1 -0.513250  0.46564  0.263426  0.216821 -0.238990 -0.238990   \n",
       "\n",
       "        x30       x03      ...                x94       x49       x95  \\\n",
       "0  0.000135  0.342354      ...       8.481827e-08  0.000001  0.000001   \n",
       "1 -0.000798  0.321335      ...      -1.510054e-06  0.000011  0.000011   \n",
       "2 -0.009761  0.331733      ...      -1.023708e-04  0.000332  0.000332   \n",
       "3 -0.052734  0.126650      ...      -4.716595e-04  0.000632  0.000632   \n",
       "4 -0.135203  0.100960      ...      -1.674349e-03  0.001519  0.001519   \n",
       "\n",
       "            x59       x96           x69       x97           x79       x98  \\\n",
       "0  8.481827e-08  0.000016  6.215876e-09  0.000216  4.555282e-10  0.002941   \n",
       "1 -1.510054e-06 -0.000082  2.044638e-07  0.000608 -2.768473e-08 -0.004493   \n",
       "2 -1.023708e-04 -0.001074  3.160370e-05  0.003479 -9.756630e-06 -0.011270   \n",
       "3 -4.716595e-04 -0.000846  3.522020e-04  0.001133 -2.629995e-04 -0.001517   \n",
       "4 -1.674349e-03 -0.001378  1.845545e-03  0.001250 -2.034245e-03 -0.001134   \n",
       "\n",
       "            x89  \n",
       "0  3.338322e-11  \n",
       "1  3.748558e-09  \n",
       "2  3.012047e-06  \n",
       "3  1.963895e-04  \n",
       "4  2.242239e-03  \n",
       "\n",
       "[5 rows x 92 columns]"
      ]
     },
     "execution_count": 319,
     "metadata": {},
     "output_type": "execute_result"
    }
   ],
   "source": [
    "data = pd.read_csv(\"data/ex2data2.txt\", header = None, names = [\"Test1\",\"Test2\",\"Accepted\"])\n",
    "data.insert(0 , \"Bias\",  1)\n",
    "\n",
    "degree = 10\n",
    "\n",
    "x1 = data[\"Test1\"]\n",
    "x2 = data[\"Test2\"]\n",
    "\n",
    "for i in range(1, degree):\n",
    "    for j in range(0,i):\n",
    "        data['x' + str(i) + str(j)] = np.power(x1, i - j) * np.power(x2, j)    \n",
    "        data['x' + str(j) + str(i)] = np.power(x2, i - j) * np.power(x1, j)     \n",
    "        \n",
    "data.drop('Test1', axis= 1, inplace =True)\n",
    "data.drop('Test2',axis= 1, inplace = True)\n",
    "\n",
    "\n",
    "data.head()"
   ]
  },
  {
   "cell_type": "code",
   "execution_count": 320,
   "metadata": {
    "collapsed": true
   },
   "outputs": [],
   "source": [
    "X = data.drop(\"Accepted\", axis =1)\n",
    "y = data[\"Accepted\"]\n",
    "\n",
    "\n",
    "X_train, X_valid, y_train, y_valid = train_test_split(\n",
    "            X, y, test_size=0.20)"
   ]
  },
  {
   "cell_type": "code",
   "execution_count": 321,
   "metadata": {},
   "outputs": [
    {
     "name": "stdout",
     "output_type": "stream",
     "text": [
      "Runned Spicy Optimizer > Train Loss: 0.6707540066462749 Val Loss: 0.6132621130254335\n",
      "Train Accuracy: 0.8404255319148937 Val Accuracy: 0.7916666666666666\n"
     ]
    }
   ],
   "source": [
    "model = LogisticRegression(X_train, y_train,X_valid,y_valid,  lr = 0.001, epochs =10000, reg =True,useoptimizer=True)\n",
    "model.fit()"
   ]
  },
  {
   "cell_type": "code",
   "execution_count": null,
   "metadata": {
    "collapsed": true
   },
   "outputs": [],
   "source": []
  }
 ],
 "metadata": {
  "kernelspec": {
   "display_name": "Python 3",
   "language": "python",
   "name": "python3"
  },
  "language_info": {
   "codemirror_mode": {
    "name": "ipython",
    "version": 3
   },
   "file_extension": ".py",
   "mimetype": "text/x-python",
   "name": "python",
   "nbconvert_exporter": "python",
   "pygments_lexer": "ipython3",
   "version": "3.6.1"
  }
 },
 "nbformat": 4,
 "nbformat_minor": 2
}
