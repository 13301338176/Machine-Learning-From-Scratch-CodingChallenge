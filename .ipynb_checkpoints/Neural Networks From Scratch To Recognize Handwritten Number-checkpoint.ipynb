{
 "cells": [
  {
   "cell_type": "code",
   "execution_count": 5,
   "metadata": {
    "collapsed": true
   },
   "outputs": [],
   "source": [
    "import numpy as np\n",
    "import ipdb"
   ]
  },
  {
   "cell_type": "markdown",
   "metadata": {},
   "source": [
    "### Lets Extend Our Sequential class to support derviative for RELU, TanH , LeakyRELU. Here each activation function they have thier own way of derviatives. For Example for sigmoid it is z*(1-z) where z =Sigmoid(w h(x)) . How we derive this equation for derivative is out of scope for this session. After extending this, we try to build our sequential class to recognize handwritten characters from image. Lets copy our Sequential class and its dependency from last session and extending the same .\n"
   ]
  },
  {
   "cell_type": "code",
   "execution_count": 6,
   "metadata": {
    "collapsed": true
   },
   "outputs": [],
   "source": [
    "\n",
    "\n",
    "#This cell block has the List of Activation Functions with derivatives\n",
    "class sigmoid():\n",
    "    def __init__(self):\n",
    "        pass\n",
    "    \n",
    "    def __call__(self,h):\n",
    "        return 1/(1+np.exp(-h)) \n",
    "    \n",
    "    def derivative(self,h):\n",
    "        return h * (1-h)   \n",
    "    \n",
    "    def diff(self, h ,y):\n",
    "        return y - h\n",
    "\n",
    "class relu():\n",
    "    def __init__(self):\n",
    "        pass\n",
    "    \n",
    "    def __call__(self,h):\n",
    "        return h * (h >0)\n",
    "    \n",
    "    def derivative(self,h):\n",
    "        return 1. * (h >0)\n",
    "\n",
    "\n",
    "class tanh():\n",
    "    def __init__(self):\n",
    "        pass\n",
    "    \n",
    "    def __call__(self,h):\n",
    "        return np.tanh(h)\n",
    "    \n",
    "    def derivative(self,h):\n",
    "        return 1. - np.power(h,2)\n",
    "\n",
    "class leakyrelu():\n",
    "    def __init__(self):\n",
    "        pass\n",
    "    \n",
    "    def __call__(self,h, alpha=0.1):\n",
    "        return np.maximum(h ,alpha)\n",
    "    \n",
    "    def derivative(self,h):\n",
    "        d =  1. (h>0)\n",
    "        d[d <= 0] = alpha\n",
    "        return d       \n",
    "#softmax function as an activation function that maps the accumulated evidences to a probability distribution over the classes\n",
    "class softmax():\n",
    "    def __init__(self):\n",
    "        pass\n",
    "        \n",
    "    def __call__(self,h):\n",
    "        expo = np.exp(h)\n",
    "        result = expo/np.sum(expo,axis=1, keepdims=True)  \n",
    "        return result\n",
    "    \n",
    "    def derivative(self,h):\n",
    "        return None\n",
    "    \n",
    "    def diff(self, h, y):\n",
    "        dscore = h\n",
    "        dscore[range(len(y)), y.ravel()-1] -= 1        \n",
    "        dscore /= len(y)\n",
    "        return dscore\n"
   ]
  },
  {
   "cell_type": "markdown",
   "metadata": {},
   "source": [
    "### List of loss functions listed below, for Logistic Regression binary loss will be the default choice, for softmax predictions, cross entropy will be the right one. \n"
   ]
  },
  {
   "cell_type": "code",
   "execution_count": 7,
   "metadata": {
    "collapsed": true
   },
   "outputs": [],
   "source": [
    "#This Cell Block has List of Loss functions\n",
    "def binaryLoss(y, p,lweights = None, reg=1e-3):\n",
    "    return np.mean(-(y * np.log(p) + (1-y)*np.log(1-p)))    \n",
    "#y -actual output p - predicted output reg - regularization strength\n",
    "def crossEntropyForSoftMax(y, p,lweights = None, reg=1e-3): \n",
    "    #select the right propbolity for loss  \n",
    "    correct_prob = -np.log(p[range(len(y)), y.ravel()-1])\n",
    "    dataloss = np.sum(correct_prob)/len(y)   \n",
    "    \n",
    "    #regularization can be defined by 1/2 * Reg * np.sum(w*2)\n",
    "    regloss= 0\n",
    "    \n",
    "    if lweights is not None:\n",
    "        for weight in lweights:\n",
    "            regloss +=  0.5*reg* np.sum(np.square(weight))\n",
    "        \n",
    "    return dataloss+regloss    "
   ]
  },
  {
   "cell_type": "markdown",
   "metadata": {},
   "source": [
    "### Sequential class is a abstracted class to create a network faster. This class can be further optimized by choosing the right datastructure like dictionary to store any computations which helps in doing any computations just once. But for the simplicity , taking a middle ground here."
   ]
  },
  {
   "cell_type": "code",
   "execution_count": 30,
   "metadata": {},
   "outputs": [],
   "source": [
    "class Sequential:\n",
    "    def __init__(self, layers, epochs, lr,  loss = binaryLoss, reg =1e-3):\n",
    "        self.layers,self.epochs, self.lr,self.loss,self.reg = layers,epochs, lr ,loss,reg\n",
    "        \n",
    "    def __call__(self, X, y,X_valid, y_valid): \n",
    "        #assign weights\n",
    "        self.X,self.y,self.X_valid,self.y_valid = X,y,X_valid, y_valid    \n",
    "        \n",
    "        inputdim = X.shape[1]\n",
    "        np.random.seed(0)     \n",
    "        #initialize layers\n",
    "        for layer in self.layers:\n",
    "            inputdim = layer(inputdim,self.lr, self.reg) \n",
    "            \n",
    "        return self    \n",
    "    \n",
    "    def predict(self, X_input, y_input):\n",
    "        \n",
    "        h = X_input  \n",
    "        layerweigths = []\n",
    "        #compute hidden units\n",
    "        for layer in self.layers:  \n",
    "            h = layer.forward(h) \n",
    "            layerweigths.append(layer.w)\n",
    "        \n",
    "        loss = self.loss(y_input, h, layerweigths, self.reg)         \n",
    "        \n",
    "        return h,loss \n",
    "    \n",
    "    \n",
    "          \n",
    "    def fit(self):  \n",
    "        \n",
    "        for i in range(self.epochs):\n",
    "            \n",
    "            if((i%1000) == 0):\n",
    "                valid_h, valid_loss = self.predict(self.X_valid,self.y_valid)     \n",
    "                h, loss = self.predict(self.X,self.y)  \n",
    "                train_accuracy = np.mean(np.argmax(h ,axis=1)+1 == self.y.ravel())\n",
    "                val_accuracy = np.mean(np.argmax(valid_h ,axis=1)+1 == self.y_valid.ravel())\n",
    "               \n",
    "                print(f'Epoch# {i} Training Loss:{loss} Validation Loss: {valid_loss} Training Accuracy:{train_accuracy} Validation Accuracy:{val_accuracy}') \n",
    "            else :    h, loss = self.predict(self.X,self.y)  \n",
    "                \n",
    "            #compute the error  \n",
    "            error = self.layers[-1].activation.diff(h, self.y) \n",
    "            \n",
    "            #back propagate the error - this formula is influenced by andrew ng course  \n",
    "            for i in reversed(range(0,len(self.layers))):  \n",
    "                h = self.X if i == 0 else self.layers[i-1].h\n",
    "                error = self.layers[i].backward(error, h)          \n",
    "               \n",
    "            #update the weights   \n",
    "            for layer in reversed(self.layers):\n",
    "                layer.step()"
   ]
  },
  {
   "cell_type": "code",
   "execution_count": 20,
   "metadata": {},
   "outputs": [],
   "source": [
    "from abc import ABC, abstractmethod\n",
    "\n",
    "class Layer(ABC):\n",
    "    def __init__(self, outdim, activation = sigmoid): \n",
    "        self.outdim = outdim\n",
    "        self.activation = activation\n",
    "          \n",
    "        \n",
    "    def __call__(self, inputdim, lr= 0.01, reg=1e-3):  \n",
    "        self.inputdim,self.lr,self.reg  = inputdim,lr,reg\n",
    "        self.w = ( 0.01 * np.random.random((self.inputdim, self.outdim)))\n",
    "        self.b = (0.01 * np.random.random((1,self.outdim)))       \n",
    "        return self.outdim\n",
    "        \n",
    "   \n",
    "    def forward(self, x):\n",
    "        self.h = self.activation(x)    \n",
    "        return self.h\n",
    "    \n",
    "    def backward(self, d, h):   \n",
    "        #given an output value from a neuron, we need to calculate it’s slope.\n",
    "      \n",
    "        #Apply the derivative of our activation function to the output layer error\n",
    "        derivative = self.activation.derivative(self.h)\n",
    "        \n",
    "        if(derivative is None):  delta = d \n",
    "        else: delta = d * derivative\n",
    "            \n",
    "        self.dw = np.dot(h.T, delta)\n",
    "        self.db = np.sum(delta, axis =0, keepdims=True)      \n",
    "        \n",
    "        #Use the delta output  to figure out how much our hidden layer contributed to the output error \n",
    "        #by performing a dot product with our weight matrix\n",
    "        error = delta.dot(self.w.T)               \n",
    "        \n",
    "        self.dw += self.reg * self.w    \n",
    "        \n",
    "        return error\n",
    "    \n",
    "    def step(self):      \n",
    "        self.w +=  -self.lr * self.dw\n",
    "        self.b +=  -self.lr * self.db"
   ]
  },
  {
   "cell_type": "code",
   "execution_count": 21,
   "metadata": {},
   "outputs": [],
   "source": [
    "class Dense(Layer):\n",
    "    def __init__(self, outdim, activation = sigmoid):        \n",
    "        super().__init__(outdim,activation)        \n",
    "      \n",
    "        \n",
    "    def forward(self,x):        \n",
    "        #linear \n",
    "        h = np.dot(x, self.w)  + self.b\n",
    "        return super().forward(h)"
   ]
  },
  {
   "cell_type": "markdown",
   "metadata": {},
   "source": [
    "### Let's Prepare the Input for Sequential class"
   ]
  },
  {
   "cell_type": "code",
   "execution_count": 22,
   "metadata": {
    "collapsed": true
   },
   "outputs": [],
   "source": [
    "from scipy.io import loadmat\n",
    "import matplotlib.pyplot as plt\n",
    "from sklearn.model_selection import train_test_split\n",
    "%matplotlib inline"
   ]
  },
  {
   "cell_type": "code",
   "execution_count": 23,
   "metadata": {},
   "outputs": [
    {
     "name": "stdout",
     "output_type": "stream",
     "text": [
      "(5000, 400)\n",
      "(5000, 1)\n"
     ]
    }
   ],
   "source": [
    "data = loadmat(\"data\\ex3data1.mat\")\n",
    "print(data['X'].shape)\n",
    "print(data['y'].shape)"
   ]
  },
  {
   "cell_type": "markdown",
   "metadata": {},
   "source": [
    "## Plot one image from input"
   ]
  },
  {
   "cell_type": "code",
   "execution_count": 24,
   "metadata": {
    "collapsed": true
   },
   "outputs": [],
   "source": [
    "def show(img, title:None):\n",
    "    plt.imshow(img, cmap='gray')\n",
    "    if(title is not None): plt.title(title)"
   ]
  },
  {
   "cell_type": "code",
   "execution_count": 25,
   "metadata": {},
   "outputs": [
    {
     "data": {
      "image/png": "[encoded data removed]",
      "text/plain": [
       "<matplotlib.figure.Figure at 0x23662dea5f8>"
      ]
     },
     "metadata": {},
     "output_type": "display_data"
    }
   ],
   "source": [
    "#reshape by 20*20\n",
    "image = np.reshape(data['X'][4000],(20,20))\n",
    "image.shape\n",
    "show(image, data['y'][4000])"
   ]
  },
  {
   "cell_type": "markdown",
   "metadata": {},
   "source": [
    "### Insert the First Column as Ones for Bias "
   ]
  },
  {
   "cell_type": "code",
   "execution_count": 26,
   "metadata": {
    "collapsed": true
   },
   "outputs": [],
   "source": [
    "X = data['X']\n",
    "y =  data['y']"
   ]
  },
  {
   "cell_type": "code",
   "execution_count": 27,
   "metadata": {},
   "outputs": [
    {
     "name": "stdout",
     "output_type": "stream",
     "text": [
      "(4000, 400)\n",
      "(1000, 400)\n"
     ]
    }
   ],
   "source": [
    "X_train, X_valid, y_train, y_valid = train_test_split(\n",
    "            X,y, test_size=0.20, random_state=42)\n",
    "print(X_train.shape)\n",
    "print(X_valid.shape)"
   ]
  },
  {
   "cell_type": "code",
   "execution_count": 33,
   "metadata": {
    "collapsed": true
   },
   "outputs": [],
   "source": [
    "model = Sequential([    \n",
    "    Dense(100, activation = relu()),\n",
    "    Dense(10, activation = softmax())    \n",
    "], epochs =10000, lr= 0.1, reg= 1e-3, loss= crossEntropyForSoftMax)(X_train,y_train,X_valid, y_valid)"
   ]
  },
  {
   "cell_type": "code",
   "execution_count": 34,
   "metadata": {},
   "outputs": [
    {
     "name": "stdout",
     "output_type": "stream",
     "text": [
      "Epoch# 0 Training Loss:2.3036310355372773 Validation Loss: 2.3041550030303695 Training Accuracy:0.10475 Validation Accuracy:0.085\n",
      "Epoch# 1000 Training Loss:0.2948425367948705 Validation Loss: 0.3996565177455286 Training Accuracy:0.93075 Validation Accuracy:0.907\n",
      "Epoch# 2000 Training Loss:0.2308697192764801 Validation Loss: 0.3840779523124036 Training Accuracy:0.95175 Validation Accuracy:0.92\n",
      "Epoch# 3000 Training Loss:0.19830037834508418 Validation Loss: 0.38122552253673886 Training Accuracy:0.9685 Validation Accuracy:0.919\n",
      "Epoch# 4000 Training Loss:0.17708025333789545 Validation Loss: 0.3790356183890529 Training Accuracy:0.977 Validation Accuracy:0.923\n",
      "Epoch# 5000 Training Loss:0.16288755469974536 Validation Loss: 0.37694162154958005 Training Accuracy:0.983 Validation Accuracy:0.922\n",
      "Epoch# 6000 Training Loss:0.15380883906196735 Validation Loss: 0.37555439485528996 Training Accuracy:0.9895 Validation Accuracy:0.926\n",
      "Epoch# 7000 Training Loss:0.14805186356499744 Validation Loss: 0.37380542800325733 Training Accuracy:0.994 Validation Accuracy:0.926\n",
      "Epoch# 8000 Training Loss:0.14438294590510953 Validation Loss: 0.372050384544171 Training Accuracy:0.99575 Validation Accuracy:0.93\n",
      "Epoch# 9000 Training Loss:0.14188278372593305 Validation Loss: 0.3697176141653569 Training Accuracy:0.997 Validation Accuracy:0.933\n"
     ]
    }
   ],
   "source": [
    "model.fit()"
   ]
  },
  {
   "cell_type": "markdown",
   "metadata": {
    "collapsed": true
   },
   "source": [
    "### Still the accuracy is improving and that's the strength of neural network. In the next session, lets further extend our neural network to support non linear features like drop out and batch norm"
   ]
  }
 ],
 "metadata": {
  "kernelspec": {
   "display_name": "Python 3",
   "language": "python",
   "name": "python3"
  },
  "language_info": {
   "codemirror_mode": {
    "name": "ipython",
    "version": 3
   },
   "file_extension": ".py",
   "mimetype": "text/x-python",
   "name": "python",
   "nbconvert_exporter": "python",
   "pygments_lexer": "ipython3",
   "version": "3.6.1"
  }
 },
 "nbformat": 4,
 "nbformat_minor": 2
}
